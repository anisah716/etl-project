{
 "cells": [
  {
   "cell_type": "code",
   "execution_count": 28,
   "metadata": {},
   "outputs": [],
   "source": [
    "from flask import Flask, render_template\n",
    "import pymongo\n",
    "from splinter import Browser\n",
    "from bs4 import BeautifulSoup\n",
    "import os\n",
    "from datetime import datetime\n",
    "import platform\n",
    "import pdb\n",
    "import requests\n",
    "import pandas as pd"
   ]
  },
  {
   "cell_type": "code",
   "execution_count": 2,
   "metadata": {},
   "outputs": [],
   "source": [
    "# GET PHASES\n",
    "def init_browser():\n",
    "    if platform.system().lower() == 'windows'.lower():\n",
    "        executable_path = {\n",
    "            'executable_path': \n",
    "            os.path.join(os.getcwd(), 'chromedriver.exe')}\n",
    "        return Browser('chrome', **executable_path, headless=False)\n",
    "    else:\n",
    "        return Browser('chrome')\n",
    "    \n",
    "def get_html(browser, url = \"https://marvelcinematicuniverse.fandom.com/wiki/Marvel_Cinematic_Universe_Wiki\"):\n",
    "    browser.visit(url)\n",
    "    html = browser.html\n",
    "    return html\n",
    "\n",
    "def get_listings(html):\n",
    "    \n",
    "    soup = BeautifulSoup(html, \"html.parser\")\n",
    "    listings = [a.text for a in soup.find_all('a', class_='wds-dropdown-level-2__toggle') if a]\n",
    "    return listings\n",
    "    \n",
    "def scrape(browser, url):\n",
    "   \n",
    "    html = get_html(browser, url)\n",
    "    listings = get_listings(html)\n",
    "    return listings\n",
    "\n",
    "\n",
    "def main():\n",
    "        browser = init_browser()\n",
    "        url='https://marvelcinematicuniverse.fandom.com/wiki/Marvel_Cinematic_Universe_Wiki'\n",
    "        titles=scrape(browser, url)\n",
    "        phaselist = titles\n",
    "        return phaselist\n",
    "\n",
    "phaselistall = main()\n"
   ]
  },
  {
   "cell_type": "code",
   "execution_count": 3,
   "metadata": {},
   "outputs": [
    {
     "data": {
      "text/plain": [
       "['Phase_One', 'Phase_Two', 'Phase_Three']"
      ]
     },
     "execution_count": 3,
     "metadata": {},
     "output_type": "execute_result"
    }
   ],
   "source": [
    "phaselist2 = phaselistall[5:8]\n",
    "phaselist = [i[1:-2] for i in phaselist2]\n",
    "phaselist = [i.replace(\" \", \"_\") for i in phaselist]\n",
    "phaselist"
   ]
  },
  {
   "cell_type": "code",
   "execution_count": 4,
   "metadata": {},
   "outputs": [],
   "source": [
    "def init_browser():\n",
    "    if platform.system().lower() == 'windows'.lower():\n",
    "        executable_path = {\n",
    "            'executable_path': \n",
    "            os.path.join(os.getcwd(), 'chromedriver.exe')}\n",
    "        return Browser('chrome', **executable_path, headless=False)\n",
    "    else:\n",
    "        return Browser('chrome')\n",
    "    \n",
    "def get_html(browser, url):\n",
    "    browser.visit(url)\n",
    "    html = browser.html\n",
    "    return html\n",
    "\n",
    "def get_listings(html):\n",
    "    soup = BeautifulSoup(html, \"html.parser\")\n",
    "    listings = [a.get('href') for a in (i.find('a',href = True) for i in soup.find_all('span', class_='mw-headline')if i) if a]\n",
    "    return listings\n",
    "\n",
    "def scrape(browser, url):\n",
    "    html = get_html(browser, url)\n",
    "    listings = get_listings(html)\n",
    "    return listings\n",
    "\n",
    "def scrape_many(search_terms = phaselist, browser = init_browser(), base_url = \"https://marvelcinematicuniverse.fandom.com/\"):\n",
    "    links = []\n",
    "    phase = []\n",
    "    for search_term in search_terms:\n",
    "        url = base_url + search_term\n",
    "        titles = scrape(browser, url)\n",
    "        links = links + titles\n",
    "        phase = phase + [search_term for i in titles]\n",
    "\n",
    "    return links, phase\n",
    "        \n",
    "links, phase = scrape_many()        \n"
   ]
  },
  {
   "cell_type": "code",
   "execution_count": 5,
   "metadata": {
    "scrolled": true
   },
   "outputs": [
    {
     "data": {
      "text/plain": [
       "{'/wiki/Iron_Man_(film)': 'Phase_One',\n",
       " '/wiki/The_Incredible_Hulk': 'Phase_One',\n",
       " '/wiki/Iron_Man_2': 'Phase_One',\n",
       " '/wiki/Thor_(film)': 'Phase_One',\n",
       " '/wiki/Captain_America:_The_First_Avenger': 'Phase_One',\n",
       " '/wiki/The_Avengers': 'Phase_One',\n",
       " '/wiki/Iron_Man_3': 'Phase_Two',\n",
       " '/wiki/Thor:_The_Dark_World': 'Phase_Two',\n",
       " '/wiki/Captain_America:_The_Winter_Soldier': 'Phase_Two',\n",
       " '/wiki/Guardians_of_the_Galaxy_(film)': 'Phase_Two',\n",
       " '/wiki/Avengers:_Age_of_Ultron': 'Phase_Two',\n",
       " '/wiki/Ant-Man_(film)': 'Phase_Two',\n",
       " '/wiki/Captain_America:_Civil_War': 'Phase_Three',\n",
       " '/wiki/Doctor_Strange_(film)': 'Phase_Three',\n",
       " '/wiki/Guardians_of_the_Galaxy_Vol._2': 'Phase_Three',\n",
       " '/wiki/Spider-Man:_Homecoming': 'Phase_Three',\n",
       " '/wiki/Thor:_Ragnarok': 'Phase_Three',\n",
       " '/wiki/Black_Panther_(film)': 'Phase_Three',\n",
       " '/wiki/Avengers:_Infinity_War': 'Phase_Three',\n",
       " '/wiki/Ant-Man_and_the_Wasp': 'Phase_Three',\n",
       " '/wiki/Captain_Marvel_(film)': 'Phase_Three',\n",
       " '/wiki/Avengers:_Endgame': 'Phase_Three',\n",
       " '/wiki/Spider-Man:_Far_From_Home': 'Phase_Three'}"
      ]
     },
     "execution_count": 5,
     "metadata": {},
     "output_type": "execute_result"
    }
   ],
   "source": [
    "movielinks = dict(zip(links, phase))\n",
    "movielinks"
   ]
  },
  {
   "cell_type": "code",
   "execution_count": null,
   "metadata": {},
   "outputs": [],
   "source": []
  },
  {
   "cell_type": "code",
   "execution_count": 23,
   "metadata": {},
   "outputs": [
    {
     "data": {
      "text/plain": [
       "'$585.2 million'"
      ]
     },
     "execution_count": 23,
     "metadata": {},
     "output_type": "execute_result"
    }
   ],
   "source": [
    "url='https://marvelcinematicuniverse.fandom.com/wiki/Iron_Man_(film)'\n",
    "x=movielinks\n",
    "response = requests.get(url)\n",
    "soup = BeautifulSoup(response.text, 'html.parser')\n",
    "results= soup.find_all('div', class_=\"pi-item pi-data pi-item-spacing pi-border-color\")\n",
    "element=[]\n",
    "for x in movielinks:\n",
    "    url=base_url+x\n",
    "    for result in results:\n",
    "        content=result.find('div', class_=\"pi-data-value pi-font\").text\n",
    "        element.append(content)\n",
    "\n",
    "ironman_box = element[-1]\n",
    "ironman_box"
   ]
  },
  {
   "cell_type": "code",
   "execution_count": 22,
   "metadata": {},
   "outputs": [
    {
     "data": {
      "text/plain": [
       "'$263.4 million'"
      ]
     },
     "execution_count": 22,
     "metadata": {},
     "output_type": "execute_result"
    }
   ],
   "source": [
    "url='https://marvelcinematicuniverse.fandom.com/wiki/The_Incredible_Hulk'\n",
    "x=movielinks\n",
    "response = requests.get(url)\n",
    "soup = BeautifulSoup(response.text, 'html.parser')\n",
    "results= soup.find_all('div', class_=\"pi-item pi-data pi-item-spacing pi-border-color\")\n",
    "element=[]\n",
    "for x in movielinks:\n",
    "    url=base_url+x\n",
    "    for result in results:\n",
    "        content=result.find('div', class_=\"pi-data-value pi-font\").text\n",
    "        element.append(content)\n",
    "\n",
    "hulk_box = element[-1]\n",
    "hulk_box"
   ]
  },
  {
   "cell_type": "code",
   "execution_count": 24,
   "metadata": {},
   "outputs": [
    {
     "data": {
      "text/plain": [
       "'$623.9 million'"
      ]
     },
     "execution_count": 24,
     "metadata": {},
     "output_type": "execute_result"
    }
   ],
   "source": [
    "url='https://marvelcinematicuniverse.fandom.com/wiki/Iron_Man_2'\n",
    "x=movielinks\n",
    "response = requests.get(url)\n",
    "soup = BeautifulSoup(response.text, 'html.parser')\n",
    "results= soup.find_all('div', class_=\"pi-item pi-data pi-item-spacing pi-border-color\")\n",
    "element=[]\n",
    "for x in movielinks:\n",
    "    url=base_url+x\n",
    "    for result in results:\n",
    "        content=result.find('div', class_=\"pi-data-value pi-font\").text\n",
    "        element.append(content)\n",
    "\n",
    "ironman2_box = element[-1]\n",
    "ironman2_box"
   ]
  },
  {
   "cell_type": "code",
   "execution_count": 25,
   "metadata": {},
   "outputs": [
    {
     "data": {
      "text/plain": [
       "'$449.3 million'"
      ]
     },
     "execution_count": 25,
     "metadata": {},
     "output_type": "execute_result"
    }
   ],
   "source": [
    "url='https://marvelcinematicuniverse.fandom.com/wiki/Thor_(film)'\n",
    "x=movielinks\n",
    "response = requests.get(url)\n",
    "soup = BeautifulSoup(response.text, 'html.parser')\n",
    "results= soup.find_all('div', class_=\"pi-item pi-data pi-item-spacing pi-border-color\")\n",
    "element=[]\n",
    "for x in movielinks:\n",
    "    url=base_url+x\n",
    "    for result in results:\n",
    "        content=result.find('div', class_=\"pi-data-value pi-font\").text\n",
    "        element.append(content)\n",
    "\n",
    "thor_box = element[-1]\n",
    "thor_box"
   ]
  },
  {
   "cell_type": "code",
   "execution_count": 71,
   "metadata": {},
   "outputs": [
    {
     "data": {
      "text/plain": [
       "'$370.6 million'"
      ]
     },
     "execution_count": 71,
     "metadata": {},
     "output_type": "execute_result"
    }
   ],
   "source": [
    "url='https://marvelcinematicuniverse.fandom.com/wiki/Captain_America:_The_First_Avenger'\n",
    "x=movielinks\n",
    "response = requests.get(url)\n",
    "soup = BeautifulSoup(response.text, 'html.parser')\n",
    "results= soup.find_all('div', class_=\"pi-item pi-data pi-item-spacing pi-border-color\")\n",
    "element=[]\n",
    "for x in movielinks:\n",
    "    url=base_url+x\n",
    "    for result in results:\n",
    "        content=result.find('div', class_=\"pi-data-value pi-font\").text\n",
    "        element.append(content)\n",
    "\n",
    "captamer_box = element[-1]\n",
    "captamer_box"
   ]
  },
  {
   "cell_type": "code",
   "execution_count": 48,
   "metadata": {},
   "outputs": [
    {
     "data": {
      "text/plain": [
       "'$1.519 billion'"
      ]
     },
     "execution_count": 48,
     "metadata": {},
     "output_type": "execute_result"
    }
   ],
   "source": [
    "url='https://marvelcinematicuniverse.fandom.com/wiki/The_Avengers'\n",
    "x=movielinks\n",
    "response = requests.get(url)\n",
    "soup = BeautifulSoup(response.text, 'html.parser')\n",
    "results= soup.find_all('div', class_=\"pi-item pi-data pi-item-spacing pi-border-color\")\n",
    "element=[]\n",
    "for x in movielinks:\n",
    "    url=base_url+x\n",
    "    for result in results:\n",
    "        content=result.find('div', class_=\"pi-data-value pi-font\").text\n",
    "        element.append(content)\n",
    "\n",
    "avenger_box = element[-1]\n",
    "avenger_box"
   ]
  },
  {
   "cell_type": "code",
   "execution_count": 58,
   "metadata": {},
   "outputs": [
    {
     "data": {
      "text/plain": [
       "'126 minutes'"
      ]
     },
     "execution_count": 58,
     "metadata": {},
     "output_type": "execute_result"
    }
   ],
   "source": [
    "url='https://marvelcinematicuniverse.fandom.com/wiki/Iron_Man_(film)'\n",
    "x=movielinks\n",
    "response = requests.get(url)\n",
    "soup = BeautifulSoup(response.text, 'html.parser')\n",
    "results= soup.find_all('div', class_=\"pi-item pi-data pi-item-spacing pi-border-color\")\n",
    "element=[]\n",
    "for x in movielinks:\n",
    "    url=base_url+x\n",
    "    for result in results:\n",
    "        content=result.find('div', class_=\"pi-data-value pi-font\").text\n",
    "        element.append(content)\n",
    "\n",
    "ironman_time = element[-2]\n",
    "ironman_time"
   ]
  },
  {
   "cell_type": "code",
   "execution_count": 60,
   "metadata": {},
   "outputs": [
    {
     "data": {
      "text/plain": [
       "'112 minutes'"
      ]
     },
     "execution_count": 60,
     "metadata": {},
     "output_type": "execute_result"
    }
   ],
   "source": [
    "url='https://marvelcinematicuniverse.fandom.com/wiki/The_Incredible_Hulk'\n",
    "x=movielinks\n",
    "response = requests.get(url)\n",
    "soup = BeautifulSoup(response.text, 'html.parser')\n",
    "results= soup.find_all('div', class_=\"pi-item pi-data pi-item-spacing pi-border-color\")\n",
    "element=[]\n",
    "for x in movielinks:\n",
    "    url=base_url+x\n",
    "    for result in results:\n",
    "        content=result.find('div', class_=\"pi-data-value pi-font\").text\n",
    "        element.append(content)\n",
    "\n",
    "hulk_time = element[-2]\n",
    "hulk_time"
   ]
  },
  {
   "cell_type": "code",
   "execution_count": 62,
   "metadata": {},
   "outputs": [
    {
     "data": {
      "text/plain": [
       "'125 minutes'"
      ]
     },
     "execution_count": 62,
     "metadata": {},
     "output_type": "execute_result"
    }
   ],
   "source": [
    "url='https://marvelcinematicuniverse.fandom.com/wiki/Iron_Man_2'\n",
    "x=movielinks\n",
    "response = requests.get(url)\n",
    "soup = BeautifulSoup(response.text, 'html.parser')\n",
    "results= soup.find_all('div', class_=\"pi-item pi-data pi-item-spacing pi-border-color\")\n",
    "element=[]\n",
    "for x in movielinks:\n",
    "    url=base_url+x\n",
    "    for result in results:\n",
    "        content=result.find('div', class_=\"pi-data-value pi-font\").text\n",
    "        element.append(content)\n",
    "\n",
    "ironman2_time = element[-2]\n",
    "ironman2_time"
   ]
  },
  {
   "cell_type": "code",
   "execution_count": 66,
   "metadata": {},
   "outputs": [
    {
     "data": {
      "text/plain": [
       "'114 minutes'"
      ]
     },
     "execution_count": 66,
     "metadata": {},
     "output_type": "execute_result"
    }
   ],
   "source": [
    "url='https://marvelcinematicuniverse.fandom.com/wiki/Thor_(film)'\n",
    "x=movielinks\n",
    "response = requests.get(url)\n",
    "soup = BeautifulSoup(response.text, 'html.parser')\n",
    "results= soup.find_all('div', class_=\"pi-item pi-data pi-item-spacing pi-border-color\")\n",
    "element=[]\n",
    "for x in movielinks:\n",
    "    url=base_url+x\n",
    "    for result in results:\n",
    "        content=result.find('div', class_=\"pi-data-value pi-font\").text\n",
    "        element.append(content)\n",
    "\n",
    "thor_time = element[-2]\n",
    "thor_time"
   ]
  },
  {
   "cell_type": "code",
   "execution_count": 73,
   "metadata": {},
   "outputs": [
    {
     "data": {
      "text/plain": [
       "'124 minutes'"
      ]
     },
     "execution_count": 73,
     "metadata": {},
     "output_type": "execute_result"
    }
   ],
   "source": [
    "url='https://marvelcinematicuniverse.fandom.com/wiki/Captain_America:_The_First_Avenger'\n",
    "x=movielinks\n",
    "response = requests.get(url)\n",
    "soup = BeautifulSoup(response.text, 'html.parser')\n",
    "results= soup.find_all('div', class_=\"pi-item pi-data pi-item-spacing pi-border-color\")\n",
    "element=[]\n",
    "for x in movielinks:\n",
    "    url=base_url+x\n",
    "    for result in results:\n",
    "        content=result.find('div', class_=\"pi-data-value pi-font\").text\n",
    "        element.append(content)\n",
    "\n",
    "captamer_time = element[-2]\n",
    "captamer_time"
   ]
  },
  {
   "cell_type": "code",
   "execution_count": 75,
   "metadata": {},
   "outputs": [
    {
     "data": {
      "text/plain": [
       "'143 minutes'"
      ]
     },
     "execution_count": 75,
     "metadata": {},
     "output_type": "execute_result"
    }
   ],
   "source": [
    "url='https://marvelcinematicuniverse.fandom.com/wiki/The_Avengers'\n",
    "x=movielinks\n",
    "response = requests.get(url)\n",
    "soup = BeautifulSoup(response.text, 'html.parser')\n",
    "results= soup.find_all('div', class_=\"pi-item pi-data pi-item-spacing pi-border-color\")\n",
    "element=[]\n",
    "for x in movielinks:\n",
    "    url=base_url+x\n",
    "    for result in results:\n",
    "        content=result.find('div', class_=\"pi-data-value pi-font\").text\n",
    "        element.append(content)\n",
    "\n",
    "avenger_time = element[-2]\n",
    "avenger_time"
   ]
  },
  {
   "cell_type": "code",
   "execution_count": 77,
   "metadata": {},
   "outputs": [
    {
     "data": {
      "text/html": [
       "<div>\n",
       "<style scoped>\n",
       "    .dataframe tbody tr th:only-of-type {\n",
       "        vertical-align: middle;\n",
       "    }\n",
       "\n",
       "    .dataframe tbody tr th {\n",
       "        vertical-align: top;\n",
       "    }\n",
       "\n",
       "    .dataframe thead th {\n",
       "        text-align: right;\n",
       "    }\n",
       "</style>\n",
       "<table border=\"1\" class=\"dataframe\">\n",
       "  <thead>\n",
       "    <tr style=\"text-align: right;\">\n",
       "      <th></th>\n",
       "      <th>Phase One: Film Name</th>\n",
       "      <th>Box Office</th>\n",
       "      <th>Running Time</th>\n",
       "    </tr>\n",
       "  </thead>\n",
       "  <tbody>\n",
       "    <tr>\n",
       "      <th>0</th>\n",
       "      <td>Iron Man</td>\n",
       "      <td>126 minutes</td>\n",
       "      <td>126 minutes</td>\n",
       "    </tr>\n",
       "    <tr>\n",
       "      <th>1</th>\n",
       "      <td>The Incredible Hulk</td>\n",
       "      <td>$263.4 million</td>\n",
       "      <td>112 minutes</td>\n",
       "    </tr>\n",
       "    <tr>\n",
       "      <th>2</th>\n",
       "      <td>Iron Man 2</td>\n",
       "      <td>$623.9 million</td>\n",
       "      <td>125 minutes</td>\n",
       "    </tr>\n",
       "    <tr>\n",
       "      <th>3</th>\n",
       "      <td>Thor</td>\n",
       "      <td>$370.6 million</td>\n",
       "      <td>114 minutes</td>\n",
       "    </tr>\n",
       "    <tr>\n",
       "      <th>4</th>\n",
       "      <td>Captain America</td>\n",
       "      <td>$449.3 million</td>\n",
       "      <td>124 minutes</td>\n",
       "    </tr>\n",
       "    <tr>\n",
       "      <th>5</th>\n",
       "      <td>The Avengers</td>\n",
       "      <td>$1.519 billion</td>\n",
       "      <td>143 minutes</td>\n",
       "    </tr>\n",
       "  </tbody>\n",
       "</table>\n",
       "</div>"
      ],
      "text/plain": [
       "  Phase One: Film Name      Box Office Running Time\n",
       "0             Iron Man     126 minutes  126 minutes\n",
       "1  The Incredible Hulk  $263.4 million  112 minutes\n",
       "2           Iron Man 2  $623.9 million  125 minutes\n",
       "3                 Thor  $370.6 million  114 minutes\n",
       "4      Captain America  $449.3 million  124 minutes\n",
       "5         The Avengers  $1.519 billion  143 minutes"
      ]
     },
     "execution_count": 77,
     "metadata": {},
     "output_type": "execute_result"
    }
   ],
   "source": [
    "box_office_df = {'Phase One: Film Name': ['Iron Man', 'The Incredible Hulk', 'Iron Man 2', 'Thor', 'Captain America', 'The Avengers'],\n",
    "                 'Box Office':[ironman_box, hulk_box, ironman2_box, captamer_box, thor_box, avenger_box], \n",
    "                 'Running Time':[ironman_time, hulk_time, ironman2_time, thor_time, captamer_time, avenger_time]} \n",
    "df = pd.DataFrame(box_office_df)\n",
    "df"
   ]
  },
  {
   "cell_type": "code",
   "execution_count": null,
   "metadata": {},
   "outputs": [],
   "source": []
  },
  {
   "cell_type": "code",
   "execution_count": null,
   "metadata": {},
   "outputs": [],
   "source": []
  }
 ],
 "metadata": {
  "kernelspec": {
   "display_name": "Python 3",
   "language": "python",
   "name": "python3"
  },
  "language_info": {
   "codemirror_mode": {
    "name": "ipython",
    "version": 3
   },
   "file_extension": ".py",
   "mimetype": "text/x-python",
   "name": "python",
   "nbconvert_exporter": "python",
   "pygments_lexer": "ipython3",
   "version": "3.7.3"
  }
 },
 "nbformat": 4,
 "nbformat_minor": 2
}
