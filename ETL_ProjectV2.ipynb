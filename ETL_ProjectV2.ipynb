{
 "cells": [
  {
   "cell_type": "code",
   "execution_count": 1,
   "metadata": {},
   "outputs": [],
   "source": [
    "from flask import Flask, render_template\n",
    "import pymongo\n",
    "from splinter import Browser\n",
    "from bs4 import BeautifulSoup\n",
    "import os\n",
    "from datetime import datetime\n",
    "import platform\n",
    "import pdb"
   ]
  },
  {
   "cell_type": "code",
   "execution_count": 2,
   "metadata": {},
   "outputs": [],
   "source": [
    "# GET PHASES\n",
    "def init_browser():\n",
    "    if platform.system().lower() == 'windows'.lower():\n",
    "        executable_path = {\n",
    "            'executable_path': \n",
    "            os.path.join(os.getcwd(), 'chromedriver.exe')}\n",
    "        return Browser('chrome', **executable_path, headless=False)\n",
    "    else:\n",
    "        return Browser('chrome')\n",
    "    \n",
    "def get_html(browser, url = \"https://marvelcinematicuniverse.fandom.com/wiki/Marvel_Cinematic_Universe_Wiki\"):\n",
    "    browser.visit(url)\n",
    "    html = browser.html\n",
    "    return html\n",
    "\n",
    "def get_listings(html):\n",
    "    \n",
    "    soup = BeautifulSoup(html, \"html.parser\")\n",
    "    listings = [a.text for a in soup.find_all('a', class_='wds-dropdown-level-2__toggle') if a]\n",
    "    return listings\n",
    "    \n",
    "def scrape(browser, url):\n",
    "   \n",
    "    html = get_html(browser, url)\n",
    "    listings = get_listings(html)\n",
    "    return listings\n",
    "\n",
    "\n",
    "def main():\n",
    "        browser = init_browser()\n",
    "        url='https://marvelcinematicuniverse.fandom.com/wiki/Marvel_Cinematic_Universe_Wiki'\n",
    "        titles=scrape(browser, url)\n",
    "        phaselist = titles\n",
    "        return phaselist\n",
    "\n",
    "phaselistall = main()\n",
    "\n"
   ]
  },
  {
   "cell_type": "code",
   "execution_count": 20,
   "metadata": {},
   "outputs": [
    {
     "data": {
      "text/plain": [
       "['Phase_One', 'Phase_Two', 'Phase_Three']"
      ]
     },
     "execution_count": 20,
     "metadata": {},
     "output_type": "execute_result"
    }
   ],
   "source": [
    "phaselist2 = phaselistall[5:8]\n",
    "phaselist = [i[1:-2] for i in phaselist2]\n",
    "phaselist = [i.replace(\" \", \"_\") for i in phaselist]\n",
    "phaselist"
   ]
  },
  {
   "cell_type": "code",
   "execution_count": 50,
   "metadata": {},
   "outputs": [],
   "source": [
    "def init_browser():\n",
    "    if platform.system().lower() == 'windows'.lower():\n",
    "        executable_path = {\n",
    "            'executable_path': \n",
    "            os.path.join(os.getcwd(), 'chromedriver.exe')}\n",
    "        return Browser('chrome', **executable_path, headless=False)\n",
    "    else:\n",
    "        return Browser('chrome')\n",
    "    \n",
    "def get_html(browser, url):\n",
    "    browser.visit(url)\n",
    "    html = browser.html\n",
    "    return html\n",
    "\n",
    "def get_listings(html):\n",
    "    soup = BeautifulSoup(html, \"html.parser\")\n",
    "    listings = [a.get('href') for a in (i.find('a',href = True) for i in soup.find_all('span', class_='mw-headline')if i) if a]\n",
    "    return listings\n",
    "\n",
    "def scrape(browser, url):\n",
    "    html = get_html(browser, url)\n",
    "    listings = get_listings(html)\n",
    "    return listings\n",
    "\n",
    "def scrape_many(search_terms = phaselist, browser = init_browser(), base_url = \"https://marvelcinematicuniverse.fandom.com/\"):\n",
    "    links = []\n",
    "    phase = []\n",
    "    for search_term in search_terms:\n",
    "        url = base_url + search_term\n",
    "        titles = scrape(browser, url)\n",
    "        links = links + titles\n",
    "        phase = phase + [search_term for i in titles]\n",
    "\n",
    "    return links, phase\n",
    "        \n",
    "links, phase = scrape_many()        \n"
   ]
  },
  {
   "cell_type": "code",
   "execution_count": 54,
   "metadata": {},
   "outputs": [
    {
     "data": {
      "text/plain": [
       "{'/wiki/Iron_Man_(film)': 'Phase_One',\n",
       " '/wiki/The_Incredible_Hulk': 'Phase_One',\n",
       " '/wiki/Iron_Man_2': 'Phase_One',\n",
       " '/wiki/Thor_(film)': 'Phase_One',\n",
       " '/wiki/Captain_America:_The_First_Avenger': 'Phase_One',\n",
       " '/wiki/The_Avengers': 'Phase_One',\n",
       " '/wiki/Iron_Man_3': 'Phase_Two',\n",
       " '/wiki/Thor:_The_Dark_World': 'Phase_Two',\n",
       " '/wiki/Captain_America:_The_Winter_Soldier': 'Phase_Two',\n",
       " '/wiki/Guardians_of_the_Galaxy_(film)': 'Phase_Two',\n",
       " '/wiki/Avengers:_Age_of_Ultron': 'Phase_Two',\n",
       " '/wiki/Ant-Man_(film)': 'Phase_Two',\n",
       " '/wiki/Captain_America:_Civil_War': 'Phase_Three',\n",
       " '/wiki/Doctor_Strange_(film)': 'Phase_Three',\n",
       " '/wiki/Guardians_of_the_Galaxy_Vol._2': 'Phase_Three',\n",
       " '/wiki/Spider-Man:_Homecoming': 'Phase_Three',\n",
       " '/wiki/Thor:_Ragnarok': 'Phase_Three',\n",
       " '/wiki/Black_Panther_(film)': 'Phase_Three',\n",
       " '/wiki/Avengers:_Infinity_War': 'Phase_Three',\n",
       " '/wiki/Ant-Man_and_the_Wasp': 'Phase_Three',\n",
       " '/wiki/Captain_Marvel_(film)': 'Phase_Three',\n",
       " '/wiki/Avengers:_Endgame': 'Phase_Three',\n",
       " '/wiki/Spider-Man:_Far_From_Home': 'Phase_Three'}"
      ]
     },
     "execution_count": 54,
     "metadata": {},
     "output_type": "execute_result"
    }
   ],
   "source": [
    "movielinks = dict(zip(links, phase))\n",
    "movielinks"
   ]
  },
  {
   "cell_type": "code",
   "execution_count": null,
   "metadata": {},
   "outputs": [],
   "source": []
  }
 ],
 "metadata": {
  "kernelspec": {
   "display_name": "Python 3",
   "language": "python",
   "name": "python3"
  },
  "language_info": {
   "codemirror_mode": {
    "name": "ipython",
    "version": 3
   },
   "file_extension": ".py",
   "mimetype": "text/x-python",
   "name": "python",
   "nbconvert_exporter": "python",
   "pygments_lexer": "ipython3",
   "version": "3.7.3"
  }
 },
 "nbformat": 4,
 "nbformat_minor": 2
}
