{
 "cells": [
  {
   "cell_type": "code",
   "execution_count": 1,
   "metadata": {},
   "outputs": [],
   "source": [
    "from bs4 import BeautifulSoup\n",
    "from splinter import Browser\n",
    "from pprint import pprint\n",
    "import pymongo\n",
    "import pandas as pd\n",
    "import requests"
   ]
  },
  {
   "cell_type": "code",
   "execution_count": 2,
   "metadata": {},
   "outputs": [],
   "source": [
    "browser = Browser('chrome')"
   ]
  },
  {
   "cell_type": "code",
   "execution_count": 3,
   "metadata": {},
   "outputs": [],
   "source": [
    "base_url='https://marvelcinematicuniverse.fandom.com/wiki/'\n",
    "movie1='Iron_Man_3'\n",
    "movie2='Thor:_The_Dark_World'\n",
    "movie3='Captain_America:_The_Winter_Soldier'\n",
    "movie4='Guardians_of_the_Galaxy_(film)'\n",
    "movie5='Avengers:_Age_of_Ultron'\n",
    "movie6='Ant-Man_(film)'"
   ]
  },
  {
   "cell_type": "code",
   "execution_count": 5,
   "metadata": {},
   "outputs": [],
   "source": [
    "## Iron Man 3 \n",
    "r = requests.get(base_url+movie1)\n",
    "soup = BeautifulSoup(r.text, 'html.parser')"
   ]
  },
  {
   "cell_type": "code",
   "execution_count": 9,
   "metadata": {
    "scrolled": true
   },
   "outputs": [
    {
     "data": {
      "text/plain": [
       "'$1.215 billion'"
      ]
     },
     "execution_count": 9,
     "metadata": {},
     "output_type": "execute_result"
    }
   ],
   "source": [
    "results= soup.find_all('div', class_=\"pi-item pi-data pi-item-spacing pi-border-color\")\n",
    "factors=[]\n",
    "for result in results:\n",
    "    content=result.find('div', class_=\"pi-data-value pi-font\").text\n",
    "    factors.append(content)\n",
    "\n",
    "\n",
    "\n",
    "iron_man_3_box=factors[-1]\n",
    "iron_man_3_box"
   ]
  },
  {
   "cell_type": "code",
   "execution_count": 10,
   "metadata": {},
   "outputs": [
    {
     "name": "stdout",
     "output_type": "stream",
     "text": [
      "['Director(s)', 'Writer(s)', 'Producer(s)', 'Composer', 'Release Date', 'Running Time', 'Box Office']\n"
     ]
    }
   ],
   "source": [
    "## Thor The Dark World \n",
    "r = requests.get(base_url+movie2)\n",
    "soup = BeautifulSoup(r.text, 'html.parser')\n",
    "results= soup.find_all('div', class_=\"pi-item pi-data pi-item-spacing pi-border-color\")\n",
    "titles=[]\n",
    "for result in results:\n",
    "    content=result.find('h3',class_='pi-data-label pi-secondary-font').text\n",
    "    titles.append(content)\n",
    "\n",
    "\n",
    "print(titles)"
   ]
  },
  {
   "cell_type": "code",
   "execution_count": 48,
   "metadata": {},
   "outputs": [
    {
     "name": "stdout",
     "output_type": "stream",
     "text": [
      "['112 minutes', '$644.6 million']\n"
     ]
    }
   ],
   "source": [
    "factors=[]\n",
    "for result in results:\n",
    "    content=result.find('div', class_=\"pi-data-value pi-font\").text\n",
    "    factors.append(content)\n",
    "\n",
    "\n",
    "print(factors[5:])"
   ]
  },
  {
   "cell_type": "code",
   "execution_count": 16,
   "metadata": {},
   "outputs": [
    {
     "name": "stdout",
     "output_type": "stream",
     "text": [
      "['$714.4 million']\n"
     ]
    }
   ],
   "source": [
    "##Captain America the Winter Soldier \n",
    "r = requests.get(base_url+movie3)\n",
    "soup = BeautifulSoup(r.text, 'html.parser')\n",
    "results= soup.find_all('div', class_=\"pi-item pi-data pi-item-spacing pi-border-color\")\n",
    "factors=[]\n",
    "for result in results:\n",
    "    content=result.find('div', class_=\"pi-data-value pi-font\").text\n",
    "    factors.append(content)\n",
    "\n",
    "\n",
    "print(factors[6::])"
   ]
  },
  {
   "cell_type": "code",
   "execution_count": 40,
   "metadata": {},
   "outputs": [
    {
     "name": "stdout",
     "output_type": "stream",
     "text": [
      "['122 minutes', '$773.3 million']\n"
     ]
    }
   ],
   "source": [
    "###guardians of the galaxy\n",
    "r = requests.get(base_url+movie4)\n",
    "soup = BeautifulSoup(r.text, 'html.parser')\n",
    "results= soup.find_all('div', class_=\"pi-item pi-data pi-item-spacing pi-border-color\")\n",
    "factors=[]\n",
    "for result in results:\n",
    "    content=result.find('div', class_=\"pi-data-value pi-font\").text\n",
    "    factors.append(content)\n",
    "\n",
    "\n",
    "print(factors[5:])"
   ]
  },
  {
   "cell_type": "code",
   "execution_count": 41,
   "metadata": {},
   "outputs": [
    {
     "name": "stdout",
     "output_type": "stream",
     "text": [
      "['141 minutes', '$1.405 billion']\n"
     ]
    }
   ],
   "source": [
    "### Avengers age of Ultron \n",
    "r = requests.get(base_url+movie5)\n",
    "soup = BeautifulSoup(r.text, 'html.parser')\n",
    "results= soup.find_all('div', class_=\"pi-item pi-data pi-item-spacing pi-border-color\")\n",
    "factors=[]\n",
    "for result in results:\n",
    "    content=result.find('div', class_=\"pi-data-value pi-font\").text\n",
    "    factors.append(content)\n",
    "\n",
    "\n",
    "print(factors[5:])"
   ]
  },
  {
   "cell_type": "code",
   "execution_count": 42,
   "metadata": {},
   "outputs": [
    {
     "name": "stdout",
     "output_type": "stream",
     "text": [
      "['117 minutes', '$519.4 million']\n"
     ]
    }
   ],
   "source": [
    "### Ant Man \n",
    "r = requests.get(base_url+movie6)\n",
    "soup = BeautifulSoup(r.text, 'html.parser')\n",
    "results= soup.find_all('div', class_=\"pi-item pi-data pi-item-spacing pi-border-color\")\n",
    "factors=[]\n",
    "for result in results:\n",
    "    content=result.find('div', class_=\"pi-data-value pi-font\").text\n",
    "    factors.append(content)\n",
    "\n",
    "\n",
    "print(factors[5:])"
   ]
  },
  {
   "cell_type": "code",
   "execution_count": null,
   "metadata": {},
   "outputs": [],
   "source": []
  }
 ],
 "metadata": {
  "kernelspec": {
   "display_name": "Python 3",
   "language": "python",
   "name": "python3"
  },
  "language_info": {
   "codemirror_mode": {
    "name": "ipython",
    "version": 3
   },
   "file_extension": ".py",
   "mimetype": "text/x-python",
   "name": "python",
   "nbconvert_exporter": "python",
   "pygments_lexer": "ipython3",
   "version": "3.7.3"
  }
 },
 "nbformat": 4,
 "nbformat_minor": 2
}
