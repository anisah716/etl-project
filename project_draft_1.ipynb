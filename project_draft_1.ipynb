{
 "cells": [
  {
   "cell_type": "code",
   "execution_count": 1,
   "metadata": {},
   "outputs": [],
   "source": [
    "from flask import Flask, render_template\n",
    "import pymongo\n",
    "from splinter import Browser\n",
    "from bs4 import BeautifulSoup\n",
    "import os\n",
    "from datetime import datetime\n",
    "import platform"
   ]
  },
  {
   "cell_type": "code",
   "execution_count": 72,
   "metadata": {},
   "outputs": [],
   "source": [
    "# def init_browser():\n",
    "#     if platform.system().lower() == 'windows'.lower():\n",
    "#         executable_path = {\n",
    "#             'executable_path': \n",
    "#             os.path.join(os.getcwd(), 'chromedriver.exe')}\n",
    "#         return Browser('chrome', **executable_path, headless=False)\n",
    "#     else:\n",
    "#         return Browser('chrome')\n",
    "    \n",
    "# def get_html(browser, url = \"https://marvelcinematicuniverse.fandom.com/wiki/Marvel_Cinematic_Universe_Wiki\"):\n",
    "#     browser.visit(url)\n",
    "#     html = browser.html\n",
    "#     return html\n",
    "\n",
    "# def get_listings(html):\n",
    "    \n",
    "#     soup = BeautifulSoup(html, \"html.parser\")\n",
    "#     listings = soup.find_all('a', class_='wds-dropdown-level-2__toggle')\n",
    "#     return listings\n",
    "    \n",
    "# def scrape(browser, url):\n",
    "   \n",
    "#     html = get_html(browser, url)\n",
    "#     listings = get_listings(html)\n",
    "#     return listings\n",
    "\n",
    "\n",
    "# def access_db(dbname, collectionname):\n",
    "\n",
    "#     conn = 'mongodb://localhost:27017'\n",
    "#     client = pymongo.MongoClient(conn)\n",
    "#     db = client[dbname]\n",
    "#     collection = db[collectionname]\n",
    "#     return db, collection\n",
    "\n",
    "\n",
    "\n",
    "# def main():\n",
    "#         db, collection = access_db('phases','mcuphase')\n",
    "#         browser = init_browser()\n",
    "#         url='https://marvelcinematicuniverse.fandom.com/wiki/Marvel_Cinematic_Universe_Wiki'\n",
    "#         titles=scrape(browser, url)\n",
    "#         collection.insert_many([{'title':title.text,\n",
    "#                                  'datetime':datetime.now(),'order':order} \n",
    "#                                     for order, title in enumerate(titles)])\n",
    "#         return\n",
    "\n",
    "# main()\n",
    "\n"
   ]
  },
  {
   "cell_type": "code",
   "execution_count": 73,
   "metadata": {},
   "outputs": [],
   "source": [
    "#  db, collection = access_db('phases','mcuphase')"
   ]
  },
  {
   "cell_type": "code",
   "execution_count": 74,
   "metadata": {},
   "outputs": [
    {
     "data": {
      "text/plain": [
       "['Phase One', 'Phase Two', 'Phase Three']"
      ]
     },
     "execution_count": 74,
     "metadata": {},
     "output_type": "execute_result"
    }
   ],
   "source": [
    "# alllist=[data['title'][1:-2] for data in collection.find()]\n",
    "# phaselist = alllist[5:]\n",
    "# phaselist"
   ]
  },
  {
   "cell_type": "code",
   "execution_count": 75,
   "metadata": {},
   "outputs": [],
   "source": [
    "def init_browser():\n",
    "    if platform.system().lower() == 'windows'.lower():\n",
    "        executable_path = {\n",
    "            'executable_path': \n",
    "            os.path.join(os.getcwd(), 'chromedriver.exe')}\n",
    "        return Browser('chrome', **executable_path, headless=False)\n",
    "    else:\n",
    "        return Browser('chrome')\n",
    "    \n",
    "def get_html(browser, url = \"https://marvelcinematicuniverse.fandom.com/wiki/Marvel_Cinematic_Universe_Wiki\"):\n",
    "    browser.visit(url)\n",
    "    html = browser.html\n",
    "    return html\n",
    "\n",
    "def get_listings(html):\n",
    "    \n",
    "    soup = BeautifulSoup(html, \"html.parser\")\n",
    "    listings = soup.find_all('ul', class_='wds-list wds-is-linked')\n",
    "    return listings\n",
    "    \n",
    "def scrape(browser, url):\n",
    "   \n",
    "    html = get_html(browser, url)\n",
    "    listings = get_listings(html)\n",
    "    return listings\n",
    "\n",
    "\n",
    "def access_db(dbname, collectionname):\n",
    "\n",
    "    conn = 'mongodb://localhost:27017'\n",
    "    client = pymongo.MongoClient(conn)\n",
    "    db = client[dbname]\n",
    "    collection = db[collectionname]\n",
    "    return db, collection\n",
    "\n",
    "\n",
    "\n",
    "def main():\n",
    "        db, collection = access_db('movies','mcumovies')\n",
    "        browser = init_browser()\n",
    "        url='https://marvelcinematicuniverse.fandom.com/wiki/Marvel_Cinematic_Universe_Wiki'\n",
    "        titles=scrape(browser, url)\n",
    "        collection.insert_many([{'title':title.text,\n",
    "                                 'datetime':datetime.now(),'order':order} \n",
    "                                    for order, title in enumerate(titles)])\n",
    "        return\n",
    "\n",
    "main()\n",
    "\n"
   ]
  },
  {
   "cell_type": "code",
   "execution_count": 76,
   "metadata": {},
   "outputs": [],
   "source": [
    " db, collection = access_db('movies','mcumovies')"
   ]
  },
  {
   "cell_type": "code",
   "execution_count": 90,
   "metadata": {},
   "outputs": [
    {
     "data": {
      "text/plain": [
       "['Iron Man\\n\\n\\nThe Incredible Hulk\\n\\n\\nIron Man 2\\n\\n\\nThor\\n\\n\\nCaptain America: The First Avenger\\n\\n\\nThe Avengers',\n",
       " 'Iron Man 3\\n\\n\\nThor: The Dark World\\n\\n\\nCaptain America: The Winter Soldier\\n\\n\\nGuardians of the Galaxy\\n\\n\\nAvengers: Age of Ultron\\n\\n\\nAnt-Man',\n",
       " 'Captain America: Civil War\\n\\n\\nDoctor Strange\\n\\n\\nGuardians of the Galaxy Vol. 2\\n\\n\\nSpider-Man: Homecoming\\n\\n\\nThor: Ragnarok\\n\\n\\nBlack Panther\\n\\n\\nAvengers: Infinity War\\n\\n\\nAnt-Man and the Wasp\\n\\n\\nCaptain Marvel\\n\\n\\nAvengers: Endgame']"
      ]
     },
     "execution_count": 90,
     "metadata": {},
     "output_type": "execute_result"
    }
   ],
   "source": [
    "allmovies = [data['title'][2:-2] for data in collection.find()][6:-13]\n",
    "allmovies"
   ]
  },
  {
   "cell_type": "code",
   "execution_count": 117,
   "metadata": {},
   "outputs": [],
   "source": [
    "phase1 = allmovies[0].split(\"\\n\\n\\n\")\n",
    "phase2 = allmovies[1].split(\"\\n\\n\\n\")\n",
    "phase3 = allmovies[2].split(\"\\n\\n\\n\")"
   ]
  },
  {
   "cell_type": "code",
   "execution_count": 118,
   "metadata": {},
   "outputs": [],
   "source": [
    "phase1_searchterms = [i.replace(\" \", \"_\") for i in phase1]\n",
    "phase2_searchterms = [i.replace(\" \", \"_\") for i in phase2]\n",
    "phase3_searchterms = [i.replace(\" \", \"_\") for i in phase3]"
   ]
  },
  {
   "cell_type": "code",
   "execution_count": 120,
   "metadata": {},
   "outputs": [
    {
     "data": {
      "text/plain": [
       "['Iron_Man',\n",
       " 'The_Incredible_Hulk',\n",
       " 'Iron_Man_2',\n",
       " 'Thor',\n",
       " 'Captain_America:_The_First_Avenger',\n",
       " 'The_Avengers']"
      ]
     },
     "execution_count": 120,
     "metadata": {},
     "output_type": "execute_result"
    }
   ],
   "source": [
    "phase1_searchterms"
   ]
  },
  {
   "cell_type": "code",
   "execution_count": 121,
   "metadata": {},
   "outputs": [
    {
     "data": {
      "text/plain": [
       "['Iron_Man_3',\n",
       " 'Thor:_The_Dark_World',\n",
       " 'Captain_America:_The_Winter_Soldier',\n",
       " 'Guardians_of_the_Galaxy',\n",
       " 'Avengers:_Age_of_Ultron',\n",
       " 'Ant-Man']"
      ]
     },
     "execution_count": 121,
     "metadata": {},
     "output_type": "execute_result"
    }
   ],
   "source": [
    "phase2_searchterms"
   ]
  },
  {
   "cell_type": "code",
   "execution_count": 122,
   "metadata": {},
   "outputs": [
    {
     "data": {
      "text/plain": [
       "['Captain_America:_Civil_War',\n",
       " 'Doctor_Strange',\n",
       " 'Guardians_of_the_Galaxy_Vol._2',\n",
       " 'Spider-Man:_Homecoming',\n",
       " 'Thor:_Ragnarok',\n",
       " 'Black_Panther',\n",
       " 'Avengers:_Infinity_War',\n",
       " 'Ant-Man_and_the_Wasp',\n",
       " 'Captain_Marvel',\n",
       " 'Avengers:_Endgame']"
      ]
     },
     "execution_count": 122,
     "metadata": {},
     "output_type": "execute_result"
    }
   ],
   "source": [
    "phase3_searchterms"
   ]
  },
  {
   "cell_type": "code",
   "execution_count": null,
   "metadata": {},
   "outputs": [],
   "source": []
  }
 ],
 "metadata": {
  "kernelspec": {
   "display_name": "Python 3",
   "language": "python",
   "name": "python3"
  },
  "language_info": {
   "codemirror_mode": {
    "name": "ipython",
    "version": 3
   },
   "file_extension": ".py",
   "mimetype": "text/x-python",
   "name": "python",
   "nbconvert_exporter": "python",
   "pygments_lexer": "ipython3",
   "version": "3.7.3"
  }
 },
 "nbformat": 4,
 "nbformat_minor": 2
}
